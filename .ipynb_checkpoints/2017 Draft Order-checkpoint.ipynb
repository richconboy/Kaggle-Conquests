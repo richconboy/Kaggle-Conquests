{
 "cells": [
  {
   "cell_type": "code",
   "execution_count": 1,
   "metadata": {},
   "outputs": [],
   "source": [
    "#The Dudes\n",
    "names = [\"Rich\", \"Tibbs\", \"Cavoto\", \"Sean\", \"Shyam\", \"Kevin\", \"Kwis\", \"Brandon\", \"Nardella\", \"Patty\", \"Matt C\", \"Gary\"]"
   ]
  },
  {
   "cell_type": "code",
   "execution_count": 2,
   "metadata": {},
   "outputs": [
    {
     "name": "stdout",
     "output_type": "stream",
     "text": [
      "1 Brandon\n",
      "2 Matt C\n",
      "3 Rich\n",
      "4 Kwis\n",
      "5 Nardella\n",
      "6 Cavoto\n",
      "7 Shyam\n",
      "8 Gary\n",
      "9 Sean\n",
      "10 Patty\n",
      "11 Tibbs\n",
      "12 Kevin\n"
     ]
    }
   ],
   "source": [
    "#Randomize list and Print Results\n",
    "import random\n",
    "i = 1\n",
    "random.seed(20170903)\n",
    "randomized = random.sample(names, len(names))\n",
    "for name in randomized:\n",
    "    print(str(i) + \" \" + name)\n",
    "    i = i + 1"
   ]
  }
 ],
 "metadata": {
  "kernelspec": {
   "display_name": "Python 2",
   "language": "python",
   "name": "python2"
  },
  "language_info": {
   "codemirror_mode": {
    "name": "ipython",
    "version": 2
   },
   "file_extension": ".py",
   "mimetype": "text/x-python",
   "name": "python",
   "nbconvert_exporter": "python",
   "pygments_lexer": "ipython2",
   "version": "2.7.13"
  }
 },
 "nbformat": 4,
 "nbformat_minor": 2
}
